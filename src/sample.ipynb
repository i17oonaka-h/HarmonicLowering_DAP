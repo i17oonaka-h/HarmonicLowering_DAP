{
 "cells": [
  {
   "cell_type": "code",
   "execution_count": 1,
   "metadata": {},
   "outputs": [],
   "source": [
    "import torch"
   ]
  },
  {
   "cell_type": "code",
   "execution_count": 2,
   "metadata": {},
   "outputs": [],
   "source": [
    "import interp_same as IS"
   ]
  },
  {
   "cell_type": "code",
   "execution_count": 3,
   "metadata": {},
   "outputs": [],
   "source": [
    "test = torch.arange(5*7,dtype=torch.float32).reshape(1,1,5,7).to(\"cuda\")"
   ]
  },
  {
   "cell_type": "code",
   "execution_count": 4,
   "metadata": {},
   "outputs": [
    {
     "output_type": "execute_result",
     "data": {
      "text/plain": "tensor([[[[ 0.,  1.,  2.,  3.,  4.,  5.,  6.],\n          [ 7.,  8.,  9., 10., 11., 12., 13.],\n          [14., 15., 16., 17., 18., 19., 20.],\n          [21., 22., 23., 24., 25., 26., 27.],\n          [28., 29., 30., 31., 32., 33., 34.]]]], device='cuda:0')"
     },
     "metadata": {},
     "execution_count": 4
    }
   ],
   "source": [
    "test"
   ]
  },
  {
   "cell_type": "code",
   "execution_count": 5,
   "metadata": {},
   "outputs": [],
   "source": [
    "out = torch.zeros_like(test)"
   ]
  },
  {
   "cell_type": "code",
   "execution_count": 6,
   "metadata": {},
   "outputs": [],
   "source": [
    "IS.interp_shift_plus(test,out,0.8)"
   ]
  },
  {
   "cell_type": "code",
   "execution_count": 7,
   "metadata": {},
   "outputs": [
    {
     "output_type": "execute_result",
     "data": {
      "text/plain": "tensor([[[[ 0.0000,  0.2000,  1.2000,  2.2000,  3.2000,  4.2000,  5.2000],\n          [ 1.4000,  7.2000,  8.2000,  9.2000, 10.2000, 11.2000, 12.2000],\n          [ 2.8000, 14.2000, 15.2000, 16.2000, 17.2000, 18.2000, 19.2000],\n          [ 4.2000, 21.2000, 22.2000, 23.2000, 24.2000, 25.2000, 26.2000],\n          [ 5.6000, 28.2000, 29.2000, 30.2000, 31.2000, 32.2000, 33.2000]]]],\n       device='cuda:0')"
     },
     "metadata": {},
     "execution_count": 7
    }
   ],
   "source": [
    "out"
   ]
  },
  {
   "cell_type": "code",
   "execution_count": 67,
   "metadata": {},
   "outputs": [],
   "source": [
    "n = 3\n",
    "k = 2"
   ]
  },
  {
   "cell_type": "code",
   "execution_count": 68,
   "metadata": {},
   "outputs": [],
   "source": [
    "index = torch.arange(n,dtype=torch.int32,device=\"cuda\") * k / n "
   ]
  },
  {
   "cell_type": "code",
   "execution_count": 69,
   "metadata": {},
   "outputs": [],
   "source": [
    "weight = 1 - (torch.arange(n,dtype=torch.float32,device=\"cuda\") * k / n - index)"
   ]
  },
  {
   "cell_type": "code",
   "execution_count": 70,
   "metadata": {},
   "outputs": [
    {
     "output_type": "execute_result",
     "data": {
      "text/plain": "tensor([[[[ 0.0000,  0.6667,  1.3333,  2.0000,  2.6667,  3.3333,  4.0000],\n          [ 7.0000,  7.6667,  8.3333,  9.0000,  9.6667, 10.3333, 11.0000],\n          [14.0000, 14.6667, 15.3333, 16.0000, 16.6667, 17.3333, 18.0000],\n          [21.0000, 21.6667, 22.3333, 23.0000, 23.6667, 24.3333, 25.0000],\n          [28.0000, 28.6667, 29.3333, 30.0000, 30.6667, 31.3333, 32.0000]]]],\n       device='cuda:0')"
     },
     "metadata": {},
     "execution_count": 70
    }
   ],
   "source": [
    "IS.interp_affine(test,out,index,weight,k,n)"
   ]
  },
  {
   "cell_type": "code",
   "execution_count": 71,
   "metadata": {},
   "outputs": [
    {
     "output_type": "execute_result",
     "data": {
      "text/plain": "tensor([[[[ 0.,  1.,  2.,  3.,  4.,  5.,  6.],\n          [ 7.,  8.,  9., 10., 11., 12., 13.],\n          [14., 15., 16., 17., 18., 19., 20.],\n          [21., 22., 23., 24., 25., 26., 27.],\n          [28., 29., 30., 31., 32., 33., 34.]]]], device='cuda:0')"
     },
     "metadata": {},
     "execution_count": 71
    }
   ],
   "source": [
    "test"
   ]
  },
  {
   "cell_type": "code",
   "execution_count": null,
   "metadata": {},
   "outputs": [],
   "source": []
  }
 ],
 "metadata": {
  "language_info": {
   "codemirror_mode": {
    "name": "ipython",
    "version": 3
   },
   "file_extension": ".py",
   "mimetype": "text/x-python",
   "name": "python",
   "nbconvert_exporter": "python",
   "pygments_lexer": "ipython3",
   "version": "3.8.2-final"
  },
  "orig_nbformat": 2,
  "kernelspec": {
   "name": "python3",
   "display_name": "Python 3"
  }
 },
 "nbformat": 4,
 "nbformat_minor": 2
}