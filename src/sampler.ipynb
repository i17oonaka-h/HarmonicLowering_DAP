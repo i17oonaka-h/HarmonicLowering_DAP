{
 "cells": [
  {
   "cell_type": "code",
   "execution_count": 1,
   "metadata": {},
   "outputs": [],
   "source": [
    "import torch\n",
    "import time"
   ]
  },
  {
   "cell_type": "code",
   "execution_count": 2,
   "metadata": {},
   "outputs": [],
   "source": [
    "batch = 16\n",
    "inc = 32\n",
    "H = W = 256"
   ]
  },
  {
   "cell_type": "code",
   "execution_count": 3,
   "metadata": {},
   "outputs": [],
   "source": [
    "test = torch.nn.Parameter(torch.randn(batch,inc,H,W,device = \"cuda\"))"
   ]
  },
  {
   "cell_type": "code",
   "execution_count": 4,
   "metadata": {},
   "outputs": [],
   "source": [
    "def trial(targe_func,loop=100,prof_out=False):\n",
    "    all_time = - time.time()\n",
    "    with torch.autograd.profiler.profile(use_cuda=True) as prof:\n",
    "        for _ in range(loop):\n",
    "            with torch.autograd.profiler.record_function(\"forwarding-method\"):\n",
    "                up_tensor = targe_func(test)\n",
    "            loss = up_tensor.sum()\n",
    "            with torch.autograd.profiler.record_function(\"backwarding-method\"):\n",
    "                loss.backward()\n",
    "            test.grad.zero_() \n",
    "    torch.cuda.synchronize()   \n",
    "    all_time += time.time()\n",
    "    for p in prof.key_averages():\n",
    "        # dividing by 10000 converts to second\n",
    "        if p.key == \"backwarding-method\":\n",
    "            backward_time = p.cuda_time/10000\n",
    "        if p.key == \"forwarding-method\":\n",
    "            forward_time = p.cuda_time/10000\n",
    "    if prof_out:\n",
    "        return all_time,forward_time,backward_time,prof\n",
    "    else:\n",
    "        return all_time,forward_time,backward_time\n",
    "\n",
    "def trialf(targe_func,loop=100):\n",
    "    all_time = - time.time()\n",
    "    with torch.autograd.profiler.profile(use_cuda=True) as prof:\n",
    "        for _ in range(loop):\n",
    "            with torch.autograd.profiler.record_function(\"forwarding-method\"):\n",
    "                up_tensor = targe_func(test)\n",
    "            loss = up_tensor.sum()\n",
    "    torch.cuda.synchronize()   \n",
    "    all_time += time.time()\n",
    "    for p in prof.key_averages():\n",
    "        # dividing by 10000 converts to second\n",
    "        if p.key == \"forwarding-method\":\n",
    "            forward_time = p.cuda_time/10000\n",
    "    return all_time,forward_time,prof"
   ]
  },
  {
   "cell_type": "code",
   "execution_count": 5,
   "metadata": {},
   "outputs": [
    {
     "output_type": "execute_result",
     "data": {
      "text/plain": "(1.4856865406036377, 0.2578982958984375, 1.0865410302734375)"
     },
     "metadata": {},
     "execution_count": 5
    }
   ],
   "source": [
    "up2d = lambda x : torch.nn.functional.interpolate(x,scale_factor = (1,2), mode=\"bilinear\")\n",
    "trial(up2d)"
   ]
  },
  {
   "cell_type": "code",
   "execution_count": 6,
   "metadata": {},
   "outputs": [],
   "source": [
    "grid = torch.nn.functional.affine_grid(torch.eye(2,3)[None].expand(batch,-1,-1),(batch,inc,H,W)).to(\"cuda\")"
   ]
  },
  {
   "cell_type": "code",
   "execution_count": 7,
   "metadata": {},
   "outputs": [
    {
     "output_type": "execute_result",
     "data": {
      "text/plain": "(0.7900350093841553, 0.14913910056877136, 0.5385482014160156)"
     },
     "metadata": {},
     "execution_count": 7
    }
   ],
   "source": [
    "sp2d = lambda x : torch.nn.functional.grid_sample(x,grid, mode=\"bilinear\")\n",
    "trial(sp2d)"
   ]
  },
  {
   "cell_type": "code",
   "execution_count": 8,
   "metadata": {},
   "outputs": [],
   "source": [
    "import interp_function as IF"
   ]
  },
  {
   "cell_type": "code",
   "execution_count": 9,
   "metadata": {},
   "outputs": [
    {
     "output_type": "execute_result",
     "data": {
      "text/plain": "(0.4574005603790283, 0.07893392851638793, 0.2858813303222656)"
     },
     "metadata": {},
     "execution_count": 9
    }
   ],
   "source": [
    "zo1d = lambda x: IF.ZoomF.apply(x,3,1)\n",
    "trial(zo1d)"
   ]
  },
  {
   "cell_type": "code",
   "execution_count": 10,
   "metadata": {},
   "outputs": [
    {
     "output_type": "execute_result",
     "data": {
      "text/plain": "(0.5145611763000488, 0.12599467020225522, 0.3027990400390625)"
     },
     "metadata": {},
     "execution_count": 10
    }
   ],
   "source": [
    "sh1d = lambda x: IF.ShiftFunctional(x,1.8)\n",
    "res = trial(sh1d,prof_out=True)\n",
    "res[:3]"
   ]
  },
  {
   "cell_type": "code",
   "execution_count": 11,
   "metadata": {},
   "outputs": [],
   "source": [
    "with open(\"./hoge.txt\",\"w\") as f:\n",
    "    print(res[3].key_averages().table(sort_by=\"cuda_time_total\"),file=f)"
   ]
  },
  {
   "cell_type": "code",
   "execution_count": 12,
   "metadata": {},
   "outputs": [
    {
     "output_type": "execute_result",
     "data": {
      "text/plain": "tensor([[[[ 0.,  1.,  2.,  3.,  4.],\n          [ 5.,  6.,  7.,  8.,  9.],\n          [10., 11., 12., 13., 14.],\n          [15., 16., 17., 18., 19.],\n          [20., 21., 22., 23., 24.],\n          [25., 26., 27., 28., 29.],\n          [30., 31., 32., 33., 34.]]]], device='cuda:0')"
     },
     "metadata": {},
     "execution_count": 12
    }
   ],
   "source": [
    "test2 = torch.arange(35,device=\"cuda\",dtype=torch.float32).view(1,1,7,5)\n",
    "test2"
   ]
  },
  {
   "cell_type": "code",
   "execution_count": 13,
   "metadata": {},
   "outputs": [],
   "source": [
    "S = IF.Shift()"
   ]
  },
  {
   "cell_type": "code",
   "execution_count": 14,
   "metadata": {},
   "outputs": [
    {
     "output_type": "execute_result",
     "data": {
      "text/plain": "tensor([[[[ 0.,  1.,  2.,  3.,  4.],\n          [ 5.,  6.,  7.,  8.,  9.],\n          [10., 11., 12., 13., 14.],\n          [15., 16., 17., 18., 19.],\n          [20., 21., 22., 23., 24.],\n          [25., 26., 27., 28., 29.],\n          [30., 31., 32., 33., 34.]]]], device='cuda:0')"
     },
     "metadata": {},
     "execution_count": 14
    }
   ],
   "source": [
    "test2"
   ]
  },
  {
   "cell_type": "code",
   "execution_count": 17,
   "metadata": {},
   "outputs": [
    {
     "output_type": "execute_result",
     "data": {
      "text/plain": "tensor([[[[ 9.0000, 10.0000, 11.0000, 12.0000, 13.0000],\n          [14.0000, 15.0000, 16.0000, 17.0000, 18.0000],\n          [19.0000, 20.0000, 21.0000, 22.0000, 23.0000],\n          [24.0000, 25.0000, 26.0000, 27.0000, 28.0000],\n          [29.0000, 30.0000, 31.0000, 32.0000, 33.0000],\n          [ 0.0000,  0.0000,  0.0000,  0.0000,  0.0000],\n          [ 0.0000,  0.0000,  0.0000,  0.0000,  0.0000]]]], device='cuda:0')"
     },
     "metadata": {},
     "execution_count": 17
    }
   ],
   "source": [
    "S(test2,-1.8)"
   ]
  },
  {
   "cell_type": "code",
   "execution_count": null,
   "metadata": {},
   "outputs": [],
   "source": []
  }
 ],
 "metadata": {
  "language_info": {
   "codemirror_mode": {
    "name": "ipython",
    "version": 3
   },
   "file_extension": ".py",
   "mimetype": "text/x-python",
   "name": "python",
   "nbconvert_exporter": "python",
   "pygments_lexer": "ipython3",
   "version": 3
  },
  "orig_nbformat": 2,
  "kernelspec": {
   "name": "python_defaultSpec_1594243892260",
   "display_name": "Python 3.8.2 64-bit ('takenetdev': conda)"
  }
 },
 "nbformat": 4,
 "nbformat_minor": 2
}